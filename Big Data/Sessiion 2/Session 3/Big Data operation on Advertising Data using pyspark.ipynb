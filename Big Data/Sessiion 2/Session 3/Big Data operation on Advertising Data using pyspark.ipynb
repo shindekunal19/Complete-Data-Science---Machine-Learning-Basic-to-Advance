{
 "cells": [
  {
   "cell_type": "code",
   "execution_count": 219,
   "id": "9a7f0bba",
   "metadata": {},
   "outputs": [
    {
     "name": "stdout",
     "output_type": "stream",
     "text": [
      "Defaulting to user installation because normal site-packages is not writeable\n",
      "Requirement already satisfied: pyspark in c:\\users\\kunal shinde\\appdata\\roaming\\python\\python310\\site-packages (3.5.0)\n",
      "Requirement already satisfied: py4j==0.10.9.7 in c:\\users\\kunal shinde\\appdata\\roaming\\python\\python310\\site-packages (from pyspark) (0.10.9.7)\n",
      "Defaulting to user installation because normal site-packages is not writeable\n",
      "Requirement already satisfied: kaggle in c:\\users\\kunal shinde\\appdata\\roaming\\python\\python310\\site-packages (1.5.16)\n",
      "Requirement already satisfied: bleach in c:\\programdata\\anaconda3\\lib\\site-packages (from kaggle) (4.1.0)\n",
      "Requirement already satisfied: six>=1.10 in c:\\programdata\\anaconda3\\lib\\site-packages (from kaggle) (1.16.0)\n",
      "Requirement already satisfied: requests in c:\\programdata\\anaconda3\\lib\\site-packages (from kaggle) (2.28.1)\n",
      "Requirement already satisfied: urllib3 in c:\\programdata\\anaconda3\\lib\\site-packages (from kaggle) (1.26.14)\n",
      "Requirement already satisfied: tqdm in c:\\programdata\\anaconda3\\lib\\site-packages (from kaggle) (4.64.1)\n",
      "Requirement already satisfied: python-dateutil in c:\\programdata\\anaconda3\\lib\\site-packages (from kaggle) (2.8.2)\n",
      "Requirement already satisfied: certifi in c:\\programdata\\anaconda3\\lib\\site-packages (from kaggle) (2023.5.7)\n",
      "Requirement already satisfied: python-slugify in c:\\programdata\\anaconda3\\lib\\site-packages (from kaggle) (5.0.2)\n",
      "Requirement already satisfied: webencodings in c:\\programdata\\anaconda3\\lib\\site-packages (from bleach->kaggle) (0.5.1)\n",
      "Requirement already satisfied: packaging in c:\\programdata\\anaconda3\\lib\\site-packages (from bleach->kaggle) (22.0)\n",
      "Requirement already satisfied: text-unidecode>=1.3 in c:\\programdata\\anaconda3\\lib\\site-packages (from python-slugify->kaggle) (1.3)\n",
      "Requirement already satisfied: idna<4,>=2.5 in c:\\programdata\\anaconda3\\lib\\site-packages (from requests->kaggle) (3.4)\n",
      "Requirement already satisfied: charset-normalizer<3,>=2 in c:\\programdata\\anaconda3\\lib\\site-packages (from requests->kaggle) (2.0.4)\n",
      "Requirement already satisfied: colorama in c:\\programdata\\anaconda3\\lib\\site-packages (from tqdm->kaggle) (0.4.6)\n",
      "Defaulting to user installation because normal site-packages is not writeable\n",
      "Requirement already satisfied: wordcloud in c:\\users\\kunal shinde\\appdata\\roaming\\python\\python310\\site-packages (1.9.2)\n",
      "Requirement already satisfied: pillow in c:\\programdata\\anaconda3\\lib\\site-packages (from wordcloud) (9.4.0)\n",
      "Requirement already satisfied: matplotlib in c:\\programdata\\anaconda3\\lib\\site-packages (from wordcloud) (3.7.0)\n",
      "Requirement already satisfied: numpy>=1.6.1 in c:\\programdata\\anaconda3\\lib\\site-packages (from wordcloud) (1.23.5)\n",
      "Requirement already satisfied: contourpy>=1.0.1 in c:\\programdata\\anaconda3\\lib\\site-packages (from matplotlib->wordcloud) (1.0.5)\n",
      "Requirement already satisfied: python-dateutil>=2.7 in c:\\programdata\\anaconda3\\lib\\site-packages (from matplotlib->wordcloud) (2.8.2)\n",
      "Requirement already satisfied: pyparsing>=2.3.1 in c:\\programdata\\anaconda3\\lib\\site-packages (from matplotlib->wordcloud) (3.0.9)\n",
      "Requirement already satisfied: kiwisolver>=1.0.1 in c:\\programdata\\anaconda3\\lib\\site-packages (from matplotlib->wordcloud) (1.4.4)\n",
      "Requirement already satisfied: fonttools>=4.22.0 in c:\\programdata\\anaconda3\\lib\\site-packages (from matplotlib->wordcloud) (4.25.0)\n",
      "Requirement already satisfied: packaging>=20.0 in c:\\programdata\\anaconda3\\lib\\site-packages (from matplotlib->wordcloud) (22.0)\n",
      "Requirement already satisfied: cycler>=0.10 in c:\\programdata\\anaconda3\\lib\\site-packages (from matplotlib->wordcloud) (0.11.0)\n",
      "Requirement already satisfied: six>=1.5 in c:\\programdata\\anaconda3\\lib\\site-packages (from python-dateutil>=2.7->matplotlib->wordcloud) (1.16.0)\n"
     ]
    }
   ],
   "source": [
    "!pip install pyspark\n",
    "!pip install kaggle\n",
    "!pip install wordcloud"
   ]
  },
  {
   "cell_type": "code",
   "execution_count": 220,
   "id": "0ba095f8",
   "metadata": {},
   "outputs": [],
   "source": [
    "import pyspark\n",
    "import pandas as pd\n",
    "import numpy as np\n",
    "import matplotlib.pyplot as plt\n",
    "from pyspark.sql import functions as func\n",
    "from pyspark.sql.types import StringType,FloatType\n",
    "import nltk"
   ]
  },
  {
   "cell_type": "code",
   "execution_count": 221,
   "id": "f8657091",
   "metadata": {},
   "outputs": [
    {
     "data": {
      "text/html": [
       "\n",
       "            <div>\n",
       "                <p><b>SparkSession - in-memory</b></p>\n",
       "                \n",
       "        <div>\n",
       "            <p><b>SparkContext</b></p>\n",
       "\n",
       "            <p><a href=\"http://KUNAL-1907:4040\">Spark UI</a></p>\n",
       "\n",
       "            <dl>\n",
       "              <dt>Version</dt>\n",
       "                <dd><code>v3.5.0</code></dd>\n",
       "              <dt>Master</dt>\n",
       "                <dd><code>local[*]</code></dd>\n",
       "              <dt>AppName</dt>\n",
       "                <dd><code>advertising (1).csv</code></dd>\n",
       "            </dl>\n",
       "        </div>\n",
       "        \n",
       "            </div>\n",
       "        "
      ],
      "text/plain": [
       "<pyspark.sql.session.SparkSession at 0x1ddac693700>"
      ]
     },
     "execution_count": 221,
     "metadata": {},
     "output_type": "execute_result"
    }
   ],
   "source": [
    "from pyspark.sql import SparkSession\n",
    "spark = SparkSession.builder.appName('advertising (1).csv').getOrCreate()\n",
    "spark"
   ]
  },
  {
   "cell_type": "code",
   "execution_count": 222,
   "id": "eeeb0709",
   "metadata": {},
   "outputs": [],
   "source": [
    "df = spark.read.csv(\"advertising (1).csv\", header=True) #Loading the data"
   ]
  },
  {
   "cell_type": "code",
   "execution_count": 223,
   "id": "8a8f71cb",
   "metadata": {},
   "outputs": [
    {
     "name": "stdout",
     "output_type": "stream",
     "text": [
      "+------------------------+---+-----------+--------------------+--------------------+-----------------+------+--------------------+----------------+-------------+\n",
      "|Daily Time Spent on Site|Age|Area Income|Daily Internet Usage|       Ad Topic Line|             City|  Male|             Country|       Timestamp|Clicked on Ad|\n",
      "+------------------------+---+-----------+--------------------+--------------------+-----------------+------+--------------------+----------------+-------------+\n",
      "|                   68.95| 35|    61833.9|              256.09|Cloned 5thgenerat...|      Wrightburgh|female|             Tunisia|27/03/2016 00:53|            0|\n",
      "|                   80.23| 31|   68441.85|              193.77|Monitored nationa...|        West Jodi|  male|               Nauru|04/04/2016 01:39|            0|\n",
      "|                   69.47| 26|   59785.94|               236.5|Organic bottom-li...|         Davidton|female|          San Marino|13/03/2016 20:35|            0|\n",
      "|                   74.15| 29|   54806.18|              245.89|Triple-buffered r...|   West Terrifurt|  male|               Italy|10/01/2016 02:31|            0|\n",
      "|                   68.37| 35|   73889.99|              225.58|Robust logistical...|     South Manuel|female|             Iceland|03/06/2016 03:36|            0|\n",
      "|                   59.99| 23|   59761.56|              226.74|Sharable client-d...|        Jamieberg|  male|              Norway|19/05/2016 14:30|            0|\n",
      "|                   88.91| 33|   53852.85|              208.36|Enhanced dedicate...|      Brandonstad|female|             Myanmar|28/01/2016 20:59|            0|\n",
      "|                      66| 48|   24593.33|              131.76|Reactive local ch...| Port Jefferybury|  male|           Australia|07/03/2016 01:40|            1|\n",
      "|                   74.53| 30|      68862|              221.51|Configurable cohe...|       West Colin|  male|             Grenada|18/04/2016 09:33|            0|\n",
      "|                   69.88| 20|   55642.32|              183.82|Mandatory homogen...|       Ramirezton|  male|               Ghana|11/07/2016 01:42|            0|\n",
      "|                   47.64| 49|   45632.51|              122.02|Centralized neutr...|  West Brandonton|female|               Qatar|16/03/2016 20:19|            1|\n",
      "|                   83.07| 37|   62491.01|              230.87|Team-oriented gri...|East Theresashire|  male|             Burundi|08/05/2016 08:10|            0|\n",
      "|                   69.57| 48|   51636.92|              113.12|Centralized conte...|   West Katiefurt|  male|               Egypt|03/06/2016 01:14|            1|\n",
      "|                   79.52| 24|   51739.63|              214.23|Synergistic fresh...|       North Tara|female|Bosnia and Herzeg...|20/04/2016 21:49|            0|\n",
      "|                   42.95| 33|      30976|              143.56|Grass-roots coher...|     West William|female|            Barbados|24/03/2016 09:31|            1|\n",
      "|                   63.45| 23|   52182.23|              140.64|Persistent demand...|   New Travistown|  male|               Spain|09/03/2016 03:41|            1|\n",
      "|                   55.39| 37|   23936.86|              129.41|Customizable mult...|   West Dylanberg|female|Palestinian Terri...|30/01/2016 19:20|            1|\n",
      "|                   82.03| 41|   71511.08|              187.53|Intuitive dynamic...|      Pruittmouth|female|         Afghanistan|02/05/2016 07:00|            0|\n",
      "|                    54.7| 36|   31087.54|              118.39|Grass-roots solut...|      Jessicastad|  male|British Indian Oc...|13/02/2016 07:53|            1|\n",
      "|                   74.58| 40|   23821.72|              135.51|Advanced 24/7 pro...|       Millertown|  male|  Russian Federation|27/02/2016 04:43|            1|\n",
      "+------------------------+---+-----------+--------------------+--------------------+-----------------+------+--------------------+----------------+-------------+\n",
      "only showing top 20 rows\n",
      "\n"
     ]
    }
   ],
   "source": [
    "df.show()"
   ]
  },
  {
   "cell_type": "code",
   "execution_count": 224,
   "id": "d2c86aed",
   "metadata": {},
   "outputs": [
    {
     "name": "stdout",
     "output_type": "stream",
     "text": [
      "+------------------------+---+-----------+--------------------+--------------------+-----------------+------+--------------------+----------------+-------------+\n",
      "|Daily Time Spent on Site|Age|Area Income|Daily Internet Usage|       Ad Topic Line|             City|  Male|             Country|       Timestamp|Clicked on Ad|\n",
      "+------------------------+---+-----------+--------------------+--------------------+-----------------+------+--------------------+----------------+-------------+\n",
      "|                   68.95| 35|    61833.9|              256.09|Cloned 5thgenerat...|      Wrightburgh|female|             Tunisia|27/03/2016 00:53|            0|\n",
      "|                   80.23| 31|   68441.85|              193.77|Monitored nationa...|        West Jodi|  male|               Nauru|04/04/2016 01:39|            0|\n",
      "|                   69.47| 26|   59785.94|               236.5|Organic bottom-li...|         Davidton|female|          San Marino|13/03/2016 20:35|            0|\n",
      "|                   74.15| 29|   54806.18|              245.89|Triple-buffered r...|   West Terrifurt|  male|               Italy|10/01/2016 02:31|            0|\n",
      "|                   68.37| 35|   73889.99|              225.58|Robust logistical...|     South Manuel|female|             Iceland|03/06/2016 03:36|            0|\n",
      "|                   59.99| 23|   59761.56|              226.74|Sharable client-d...|        Jamieberg|  male|              Norway|19/05/2016 14:30|            0|\n",
      "|                   88.91| 33|   53852.85|              208.36|Enhanced dedicate...|      Brandonstad|female|             Myanmar|28/01/2016 20:59|            0|\n",
      "|                      66| 48|   24593.33|              131.76|Reactive local ch...| Port Jefferybury|  male|           Australia|07/03/2016 01:40|            1|\n",
      "|                   74.53| 30|      68862|              221.51|Configurable cohe...|       West Colin|  male|             Grenada|18/04/2016 09:33|            0|\n",
      "|                   69.88| 20|   55642.32|              183.82|Mandatory homogen...|       Ramirezton|  male|               Ghana|11/07/2016 01:42|            0|\n",
      "|                   47.64| 49|   45632.51|              122.02|Centralized neutr...|  West Brandonton|female|               Qatar|16/03/2016 20:19|            1|\n",
      "|                   83.07| 37|   62491.01|              230.87|Team-oriented gri...|East Theresashire|  male|             Burundi|08/05/2016 08:10|            0|\n",
      "|                   69.57| 48|   51636.92|              113.12|Centralized conte...|   West Katiefurt|  male|               Egypt|03/06/2016 01:14|            1|\n",
      "|                   79.52| 24|   51739.63|              214.23|Synergistic fresh...|       North Tara|female|Bosnia and Herzeg...|20/04/2016 21:49|            0|\n",
      "|                   42.95| 33|      30976|              143.56|Grass-roots coher...|     West William|female|            Barbados|24/03/2016 09:31|            1|\n",
      "|                   63.45| 23|   52182.23|              140.64|Persistent demand...|   New Travistown|  male|               Spain|09/03/2016 03:41|            1|\n",
      "|                   55.39| 37|   23936.86|              129.41|Customizable mult...|   West Dylanberg|female|Palestinian Terri...|30/01/2016 19:20|            1|\n",
      "|                   82.03| 41|   71511.08|              187.53|Intuitive dynamic...|      Pruittmouth|female|         Afghanistan|02/05/2016 07:00|            0|\n",
      "|                    54.7| 36|   31087.54|              118.39|Grass-roots solut...|      Jessicastad|  male|British Indian Oc...|13/02/2016 07:53|            1|\n",
      "|                   74.58| 40|   23821.72|              135.51|Advanced 24/7 pro...|       Millertown|  male|  Russian Federation|27/02/2016 04:43|            1|\n",
      "+------------------------+---+-----------+--------------------+--------------------+-----------------+------+--------------------+----------------+-------------+\n",
      "only showing top 20 rows\n",
      "\n"
     ]
    }
   ],
   "source": [
    "#df = df.withColumnRenamed('_c0','target').withColumnRenamed('_c1','id').withColumnRenamed('_c2','date')\\.withColumnRenamed('_c3','flag').withColumnRenamed('_c4','user').withColumnRenamed('_c5','text')\n",
    "df.show() #renaming column"
   ]
  },
  {
   "cell_type": "code",
   "execution_count": 225,
   "id": "d92ca0db",
   "metadata": {},
   "outputs": [
    {
     "name": "stdout",
     "output_type": "stream",
     "text": [
      "root\n",
      " |-- Daily Time Spent on Site: string (nullable = true)\n",
      " |-- Age: string (nullable = true)\n",
      " |-- Area Income: string (nullable = true)\n",
      " |-- Daily Internet Usage: string (nullable = true)\n",
      " |-- Ad Topic Line: string (nullable = true)\n",
      " |-- City: string (nullable = true)\n",
      " |-- Male: string (nullable = true)\n",
      " |-- Country: string (nullable = true)\n",
      " |-- Timestamp: string (nullable = true)\n",
      " |-- Clicked on Ad: string (nullable = true)\n",
      "\n"
     ]
    }
   ],
   "source": [
    "df.printSchema() "
   ]
  },
  {
   "cell_type": "code",
   "execution_count": 226,
   "id": "34ad7a6c",
   "metadata": {},
   "outputs": [
    {
     "data": {
      "text/plain": [
       "[Row(Daily Time Spent on Site='68.95', Age='35', Area Income='61833.9', Daily Internet Usage='256.09', Ad Topic Line='Cloned 5thgeneration orchestration', City='Wrightburgh', Male='female', Country='Tunisia', Timestamp='27/03/2016 00:53', Clicked on Ad='0'),\n",
       " Row(Daily Time Spent on Site='80.23', Age='31', Area Income='68441.85', Daily Internet Usage='193.77', Ad Topic Line='Monitored national standardization', City='West Jodi', Male='male', Country='Nauru', Timestamp='04/04/2016 01:39', Clicked on Ad='0'),\n",
       " Row(Daily Time Spent on Site='69.47', Age='26', Area Income='59785.94', Daily Internet Usage='236.5', Ad Topic Line='Organic bottom-line service-desk', City='Davidton', Male='female', Country='San Marino', Timestamp='13/03/2016 20:35', Clicked on Ad='0'),\n",
       " Row(Daily Time Spent on Site='74.15', Age='29', Area Income='54806.18', Daily Internet Usage='245.89', Ad Topic Line='Triple-buffered reciprocal time-frame', City='West Terrifurt', Male='male', Country='Italy', Timestamp='10/01/2016 02:31', Clicked on Ad='0'),\n",
       " Row(Daily Time Spent on Site='68.37', Age='35', Area Income='73889.99', Daily Internet Usage='225.58', Ad Topic Line='Robust logistical utilization', City='South Manuel', Male='female', Country='Iceland', Timestamp='03/06/2016 03:36', Clicked on Ad='0')]"
      ]
     },
     "execution_count": 226,
     "metadata": {},
     "output_type": "execute_result"
    }
   ],
   "source": [
    "df.head(5)"
   ]
  },
  {
   "cell_type": "code",
   "execution_count": 227,
   "id": "19372887",
   "metadata": {},
   "outputs": [],
   "source": [
    "from pyspark.sql import SparkSession\n",
    "from pyspark.sql.functions import concat, when, row_number, to_date, year, month, dayofweek\n",
    "from pyspark.sql.window import Window\n",
    "from pyspark.sql.types import IntegerType\n",
    "from pyspark.sql.functions import col"
   ]
  },
  {
   "cell_type": "code",
   "execution_count": 228,
   "id": "974894ed",
   "metadata": {},
   "outputs": [
    {
     "name": "stdout",
     "output_type": "stream",
     "text": [
      "+------------------------+---+-----------+--------------------+--------------------+----------------+------+----------+----------------+-------------+\n",
      "|Daily Time Spent on Site|Age|Area Income|Daily Internet Usage|       Ad Topic Line|            City|  Male|   Country|       Timestamp|Clicked on Ad|\n",
      "+------------------------+---+-----------+--------------------+--------------------+----------------+------+----------+----------------+-------------+\n",
      "|                   68.95| 35|    61833.9|              256.09|Cloned 5thgenerat...|     Wrightburgh|female|   Tunisia|27/03/2016 00:53|            0|\n",
      "|                   80.23| 31|   68441.85|              193.77|Monitored nationa...|       West Jodi|  male|     Nauru|04/04/2016 01:39|            0|\n",
      "|                   69.47| 26|   59785.94|               236.5|Organic bottom-li...|        Davidton|female|San Marino|13/03/2016 20:35|            0|\n",
      "|                   74.15| 29|   54806.18|              245.89|Triple-buffered r...|  West Terrifurt|  male|     Italy|10/01/2016 02:31|            0|\n",
      "|                   68.37| 35|   73889.99|              225.58|Robust logistical...|    South Manuel|female|   Iceland|03/06/2016 03:36|            0|\n",
      "|                   59.99| 23|   59761.56|              226.74|Sharable client-d...|       Jamieberg|  male|    Norway|19/05/2016 14:30|            0|\n",
      "|                   88.91| 33|   53852.85|              208.36|Enhanced dedicate...|     Brandonstad|female|   Myanmar|28/01/2016 20:59|            0|\n",
      "|                      66| 48|   24593.33|              131.76|Reactive local ch...|Port Jefferybury|  male| Australia|07/03/2016 01:40|            1|\n",
      "|                   74.53| 30|      68862|              221.51|Configurable cohe...|      West Colin|  male|   Grenada|18/04/2016 09:33|            0|\n",
      "|                   69.88| 20|   55642.32|              183.82|Mandatory homogen...|      Ramirezton|  male|     Ghana|11/07/2016 01:42|            0|\n",
      "+------------------------+---+-----------+--------------------+--------------------+----------------+------+----------+----------------+-------------+\n",
      "only showing top 10 rows\n",
      "\n"
     ]
    }
   ],
   "source": [
    "# Filter Data\n",
    "df.filter(df[\"Area Income\"] > 70).show(10)"
   ]
  },
  {
   "cell_type": "code",
   "execution_count": 229,
   "id": "c46376f3",
   "metadata": {},
   "outputs": [
    {
     "name": "stdout",
     "output_type": "stream",
     "text": [
      "+------+-------------------------+\n",
      "|  Male|sum(Daily Internet Usage)|\n",
      "+------+-------------------------+\n",
      "|female|        92805.90000000005|\n",
      "|  male|        87194.19999999991|\n",
      "+------+-------------------------+\n",
      "\n"
     ]
    }
   ],
   "source": [
    "# Grouping and Aggregating Data\n",
    "df.groupBy(\"Male\").agg({\"Daily Internet Usage\": \"sum\"}).show(5)"
   ]
  },
  {
   "cell_type": "code",
   "execution_count": 230,
   "id": "71ddf7c1",
   "metadata": {},
   "outputs": [
    {
     "name": "stdout",
     "output_type": "stream",
     "text": [
      "+----------------+----------------+\n",
      "|            City|avg(Area Income)|\n",
      "+----------------+----------------+\n",
      "|      Curtisview|        61275.18|\n",
      "|      Karenmouth|         69805.7|\n",
      "|South Davidmouth|        31998.72|\n",
      "|  Villanuevastad|        65756.36|\n",
      "|     Tinachester|        69112.84|\n",
      "+----------------+----------------+\n",
      "only showing top 5 rows\n",
      "\n"
     ]
    }
   ],
   "source": [
    "# Grouping and Aggregating Data\n",
    "df.groupBy(\"City\").agg({\"Area Income\": \"mean\"}).show(5)"
   ]
  },
  {
   "cell_type": "code",
   "execution_count": 231,
   "id": "7b1c33d8",
   "metadata": {},
   "outputs": [
    {
     "name": "stdout",
     "output_type": "stream",
     "text": [
      "+--------------------+-------------------------+\n",
      "|             Country|sum(Daily Internet Usage)|\n",
      "+--------------------+-------------------------+\n",
      "|                Chad|                   787.52|\n",
      "|            Paraguay|                    528.4|\n",
      "|            Anguilla|                  1164.11|\n",
      "|               Macao|                   377.13|\n",
      "|Heard Island and ...|                   524.69|\n",
      "+--------------------+-------------------------+\n",
      "only showing top 5 rows\n",
      "\n"
     ]
    }
   ],
   "source": [
    "df.groupBy(\"Country\").agg({\"Daily Internet Usage\":\"sum\"}).show(5)"
   ]
  },
  {
   "cell_type": "code",
   "execution_count": 232,
   "id": "d5e2356e",
   "metadata": {},
   "outputs": [
    {
     "data": {
      "text/plain": [
       "DataFrame[Daily Time Spent on Site: string, Age: string, Area Income: string, Daily Internet Usage: string, Ad Topic Line: string, City: string, Male: string, Country: string, Timestamp: string, Clicked on Ad: string]"
      ]
     },
     "execution_count": 232,
     "metadata": {},
     "output_type": "execute_result"
    }
   ],
   "source": [
    "# Handling Missing Values\n",
    "df.fillna(0, subset=[\"Daily Internet Usage\"])"
   ]
  },
  {
   "cell_type": "code",
   "execution_count": 233,
   "id": "11b39faa",
   "metadata": {},
   "outputs": [
    {
     "name": "stdout",
     "output_type": "stream",
     "text": [
      "+------------------------+---+-----------+--------------------+--------------------+-------------+------+-------------+----------------+-------------+\n",
      "|Daily Time Spent on Site|Age|Area Income|Daily Internet Usage|       Ad Topic Line|         City|  Male|      Country|       Timestamp|Clicked on Ad|\n",
      "+------------------------+---+-----------+--------------------+--------------------+-------------+------+-------------+----------------+-------------+\n",
      "|                   40.19| 37|   55358.88|              136.99|Right-sized syste...|    Adamsbury|female|       France|18/01/2016 02:51|            1|\n",
      "|                   45.82| 27|    64410.8|              171.24|Expanded full-ran...|     Adamside|  male|      Eritrea|10/02/2016 20:43|            1|\n",
      "|                   81.05| 34|   54045.39|               245.5|Configurable asyn...|    Adamsstad|female|     Malaysia|18/05/2016 00:07|            0|\n",
      "|                   83.26| 40|    70225.6|              187.76|Decentralized for...|     Alanview|  male|        Tonga|02/01/2016 14:36|            0|\n",
      "|                   46.37| 52|   32847.53|              144.27|De-engineered sol...|Alexanderfurt|female|French Guiana|05/01/2016 00:02|            1|\n",
      "+------------------------+---+-----------+--------------------+--------------------+-------------+------+-------------+----------------+-------------+\n",
      "only showing top 5 rows\n",
      "\n"
     ]
    }
   ],
   "source": [
    "# Sorting Data\n",
    "df.orderBy(\"City\").show(5)"
   ]
  },
  {
   "cell_type": "code",
   "execution_count": 234,
   "id": "c8073eb6",
   "metadata": {},
   "outputs": [
    {
     "name": "stdout",
     "output_type": "stream",
     "text": [
      "+------------------------+---+-----------+--------------------+--------------------+--------------+------+----------+----------------+-------------+\n",
      "|Daily Time Spent on Site|Age|Area Income|Daily Internet Usage|       Ad Topic Line|          City|Gender|   Country|       Timestamp|Clicked on Ad|\n",
      "+------------------------+---+-----------+--------------------+--------------------+--------------+------+----------+----------------+-------------+\n",
      "|                   68.95| 35|    61833.9|              256.09|Cloned 5thgenerat...|   Wrightburgh|female|   Tunisia|27/03/2016 00:53|            0|\n",
      "|                   80.23| 31|   68441.85|              193.77|Monitored nationa...|     West Jodi|  male|     Nauru|04/04/2016 01:39|            0|\n",
      "|                   69.47| 26|   59785.94|               236.5|Organic bottom-li...|      Davidton|female|San Marino|13/03/2016 20:35|            0|\n",
      "|                   74.15| 29|   54806.18|              245.89|Triple-buffered r...|West Terrifurt|  male|     Italy|10/01/2016 02:31|            0|\n",
      "|                   68.37| 35|   73889.99|              225.58|Robust logistical...|  South Manuel|female|   Iceland|03/06/2016 03:36|            0|\n",
      "+------------------------+---+-----------+--------------------+--------------------+--------------+------+----------+----------------+-------------+\n",
      "only showing top 5 rows\n",
      "\n"
     ]
    }
   ],
   "source": [
    "# Renaming Columns\n",
    "df = df.withColumnRenamed(\"Male\", \"Gender\").show(5)"
   ]
  },
  {
   "cell_type": "code",
   "execution_count": 235,
   "id": "f0e1f7ad",
   "metadata": {},
   "outputs": [],
   "source": [
    "#from pyspark.sql.functions import concat_ws"
   ]
  },
  {
   "cell_type": "code",
   "execution_count": 236,
   "id": "6c01cd9c",
   "metadata": {},
   "outputs": [
    {
     "ename": "AttributeError",
     "evalue": "'NoneType' object has no attribute 'withColumn'",
     "output_type": "error",
     "traceback": [
      "\u001b[1;31m---------------------------------------------------------------------------\u001b[0m",
      "\u001b[1;31mAttributeError\u001b[0m                            Traceback (most recent call last)",
      "Cell \u001b[1;32mIn[236], line 3\u001b[0m\n\u001b[0;32m      1\u001b[0m \u001b[38;5;66;03m# Concatenating Columns\u001b[39;00m\n\u001b[0;32m      2\u001b[0m \u001b[38;5;66;03m#df = df.withColumn(\"NewColumn\", col(\"City\") * 2)\u001b[39;00m\n\u001b[1;32m----> 3\u001b[0m df \u001b[38;5;241m=\u001b[39m \u001b[43mdf\u001b[49m\u001b[38;5;241;43m.\u001b[39;49m\u001b[43mwithColumn\u001b[49m(\u001b[38;5;124m\"\u001b[39m\u001b[38;5;124mconcatenated_column\u001b[39m\u001b[38;5;124m\"\u001b[39m, concat(df[\u001b[38;5;124m\"\u001b[39m\u001b[38;5;124mCity\u001b[39m\u001b[38;5;124m\"\u001b[39m], df[\u001b[38;5;124m\"\u001b[39m\u001b[38;5;124mCountry\u001b[39m\u001b[38;5;124m\"\u001b[39m]))\u001b[38;5;241m.\u001b[39mshow(\u001b[38;5;241m5\u001b[39m)\n",
      "\u001b[1;31mAttributeError\u001b[0m: 'NoneType' object has no attribute 'withColumn'"
     ]
    }
   ],
   "source": [
    "# Concatenating Columns\n",
    "#df = df.withColumn(\"NewColumn\", col(\"City\") * 2)\n",
    "df = df.withColumn(\"concatenated_column\", concat(df[\"City\"], df[\"Country\"])).show(5)"
   ]
  },
  {
   "cell_type": "code",
   "execution_count": 194,
   "id": "99d8d87a",
   "metadata": {},
   "outputs": [
    {
     "ename": "AttributeError",
     "evalue": "'NoneType' object has no attribute 'drop'",
     "output_type": "error",
     "traceback": [
      "\u001b[1;31m---------------------------------------------------------------------------\u001b[0m",
      "\u001b[1;31mAttributeError\u001b[0m                            Traceback (most recent call last)",
      "Cell \u001b[1;32mIn[194], line 2\u001b[0m\n\u001b[0;32m      1\u001b[0m \u001b[38;5;66;03m# Dropping Columns\u001b[39;00m\n\u001b[1;32m----> 2\u001b[0m df \u001b[38;5;241m=\u001b[39m \u001b[43mdf\u001b[49m\u001b[38;5;241;43m.\u001b[39;49m\u001b[43mdrop\u001b[49m(\u001b[38;5;124m\"\u001b[39m\u001b[38;5;124mconcatenated_column\u001b[39m\u001b[38;5;124m\"\u001b[39m)\n",
      "\u001b[1;31mAttributeError\u001b[0m: 'NoneType' object has no attribute 'drop'"
     ]
    }
   ],
   "source": [
    "# Dropping Columns\n",
    "df = df.drop(\"concatenated_column\")"
   ]
  },
  {
   "cell_type": "code",
   "execution_count": 195,
   "id": "f7382d0d",
   "metadata": {},
   "outputs": [
    {
     "ename": "AttributeError",
     "evalue": "'NoneType' object has no attribute 'select'",
     "output_type": "error",
     "traceback": [
      "\u001b[1;31m---------------------------------------------------------------------------\u001b[0m",
      "\u001b[1;31mAttributeError\u001b[0m                            Traceback (most recent call last)",
      "Cell \u001b[1;32mIn[195], line 2\u001b[0m\n\u001b[0;32m      1\u001b[0m \u001b[38;5;66;03m# Distinct Values in a Column\u001b[39;00m\n\u001b[1;32m----> 2\u001b[0m \u001b[43mdf\u001b[49m\u001b[38;5;241;43m.\u001b[39;49m\u001b[43mselect\u001b[49m(\u001b[38;5;124m\"\u001b[39m\u001b[38;5;124mArea Income\u001b[39m\u001b[38;5;124m\"\u001b[39m)\u001b[38;5;241m.\u001b[39mdistinct()\u001b[38;5;241m.\u001b[39mshow()\n",
      "\u001b[1;31mAttributeError\u001b[0m: 'NoneType' object has no attribute 'select'"
     ]
    }
   ],
   "source": [
    "# Distinct Values in a Column\n",
    "df.select(\"Area Income\").distinct().show()"
   ]
  },
  {
   "cell_type": "code",
   "execution_count": null,
   "id": "4a5ee979",
   "metadata": {},
   "outputs": [],
   "source": []
  },
  {
   "cell_type": "code",
   "execution_count": null,
   "id": "8594f2ba",
   "metadata": {},
   "outputs": [],
   "source": []
  }
 ],
 "metadata": {
  "kernelspec": {
   "display_name": "Python 3 (ipykernel)",
   "language": "python",
   "name": "python3"
  },
  "language_info": {
   "codemirror_mode": {
    "name": "ipython",
    "version": 3
   },
   "file_extension": ".py",
   "mimetype": "text/x-python",
   "name": "python",
   "nbconvert_exporter": "python",
   "pygments_lexer": "ipython3",
   "version": "3.10.9"
  }
 },
 "nbformat": 4,
 "nbformat_minor": 5
}
