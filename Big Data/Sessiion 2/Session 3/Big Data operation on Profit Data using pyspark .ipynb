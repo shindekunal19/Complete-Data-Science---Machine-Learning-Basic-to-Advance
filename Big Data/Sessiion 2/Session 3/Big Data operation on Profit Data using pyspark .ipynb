{
 "cells": [
  {
   "cell_type": "code",
   "execution_count": 1,
   "id": "9a7f0bba",
   "metadata": {},
   "outputs": [],
   "source": [
    "#!pip install pyspark\n",
    "#!pip install kaggle\n",
    "#!pip install wordcloud"
   ]
  },
  {
   "cell_type": "code",
   "execution_count": 47,
   "id": "0ba095f8",
   "metadata": {},
   "outputs": [],
   "source": [
    "import pyspark\n",
    "import pandas as pd\n",
    "import numpy as np\n",
    "import matplotlib.pyplot as plt\n",
    "from pyspark.sql import functions as func\n",
    "from pyspark.sql.types import StringType,FloatType\n",
    "import nltk"
   ]
  },
  {
   "cell_type": "code",
   "execution_count": 48,
   "id": "f8657091",
   "metadata": {},
   "outputs": [
    {
     "data": {
      "text/html": [
       "\n",
       "            <div>\n",
       "                <p><b>SparkSession - in-memory</b></p>\n",
       "                \n",
       "        <div>\n",
       "            <p><b>SparkContext</b></p>\n",
       "\n",
       "            <p><a href=\"http://KUNAL-1907:4041\">Spark UI</a></p>\n",
       "\n",
       "            <dl>\n",
       "              <dt>Version</dt>\n",
       "                <dd><code>v3.5.0</code></dd>\n",
       "              <dt>Master</dt>\n",
       "                <dd><code>local[*]</code></dd>\n",
       "              <dt>AppName</dt>\n",
       "                <dd><code>profitdata.csv</code></dd>\n",
       "            </dl>\n",
       "        </div>\n",
       "        \n",
       "            </div>\n",
       "        "
      ],
      "text/plain": [
       "<pyspark.sql.session.SparkSession at 0x2c38ea3fbe0>"
      ]
     },
     "execution_count": 48,
     "metadata": {},
     "output_type": "execute_result"
    }
   ],
   "source": [
    "from pyspark.sql import SparkSession\n",
    "spark = SparkSession.builder.appName('profitdata.csv').getOrCreate()\n",
    "spark"
   ]
  },
  {
   "cell_type": "code",
   "execution_count": 50,
   "id": "eeeb0709",
   "metadata": {},
   "outputs": [],
   "source": [
    "df = spark.read.csv(\"profitdata.csv\", header=True, inferSchema=True) #Loading the data"
   ]
  },
  {
   "cell_type": "code",
   "execution_count": 51,
   "id": "8a8f71cb",
   "metadata": {},
   "outputs": [
    {
     "name": "stdout",
     "output_type": "stream",
     "text": [
      "+---------+-------+-------+-----------------+-------------------+------------------+-----------------+------+\n",
      "|OrderDate| Region|Manager|Software Engineer|   Name of Projects|Number of Projects| Number of Hours |Profit|\n",
      "+---------+-------+-------+-----------------+-------------------+------------------+-----------------+------+\n",
      "|   1-6-19|   East|   Rama|    Urvesh Parmar|                NLP|                 3|             50.0| 150.0|\n",
      "|  1-23-19|Central|  Gopal|Chaitanya Shintre| Linear Regression |                 4|             20.0|  80.0|\n",
      "|   2-9-19|Central|   Sita|     Manav Parmar|Logistic Regression|                 5|             30.0| 150.0|\n",
      "|  2-26-19|Central|  Geeta|        Heet Gala|                SVM|                 6|             70.0| 420.0|\n",
      "|  3-15-19|   West|   Rama|  Sushant Saurabh|                KNN|                 7|             80.0| 560.0|\n",
      "|   4-1-19|   East|  Gopal|Chaitanya Shintre|Logistic Regression|                 4|             30.0| 120.0|\n",
      "|  4-19-19|Central|   Sita|        Heet Gala|                NLP|                 6|             50.0| 300.0|\n",
      "|   5-5-19|Central|  Geeta|        Heet Gala|                KNN|                 3|             80.0| 240.0|\n",
      "|  5-22-19|   West|   Rama|     Vaibhav Jain|             K Mean|                 6|            100.0| 600.0|\n",
      "|   6-8-19|   East|  Gopal|     Ameya Shukla|                SVM|                 9|             70.0| 630.0|\n",
      "+---------+-------+-------+-----------------+-------------------+------------------+-----------------+------+\n",
      "only showing top 10 rows\n",
      "\n"
     ]
    }
   ],
   "source": [
    "df.show(10)"
   ]
  },
  {
   "cell_type": "code",
   "execution_count": 52,
   "id": "d92ca0db",
   "metadata": {},
   "outputs": [
    {
     "name": "stdout",
     "output_type": "stream",
     "text": [
      "root\n",
      " |-- OrderDate: string (nullable = true)\n",
      " |-- Region: string (nullable = true)\n",
      " |-- Manager: string (nullable = true)\n",
      " |-- Software Engineer: string (nullable = true)\n",
      " |-- Name of Projects: string (nullable = true)\n",
      " |-- Number of Projects: integer (nullable = true)\n",
      " |--  Number of Hours : double (nullable = true)\n",
      " |-- Profit: double (nullable = true)\n",
      "\n"
     ]
    }
   ],
   "source": [
    "df.printSchema() "
   ]
  },
  {
   "cell_type": "code",
   "execution_count": 53,
   "id": "34ad7a6c",
   "metadata": {},
   "outputs": [
    {
     "data": {
      "text/plain": [
       "[Row(OrderDate='1-6-19', Region='East', Manager='Rama', Software Engineer='Urvesh Parmar', Name of Projects='NLP', Number of Projects=3,  Number of Hours =50.0, Profit=150.0),\n",
       " Row(OrderDate='1-23-19', Region='Central', Manager='Gopal', Software Engineer='Chaitanya Shintre', Name of Projects='Linear Regression ', Number of Projects=4,  Number of Hours =20.0, Profit=80.0),\n",
       " Row(OrderDate='2-9-19', Region='Central', Manager='Sita', Software Engineer='Manav Parmar', Name of Projects='Logistic Regression', Number of Projects=5,  Number of Hours =30.0, Profit=150.0),\n",
       " Row(OrderDate='2-26-19', Region='Central', Manager='Geeta', Software Engineer='Heet Gala', Name of Projects='SVM', Number of Projects=6,  Number of Hours =70.0, Profit=420.0),\n",
       " Row(OrderDate='3-15-19', Region='West', Manager='Rama', Software Engineer='Sushant Saurabh', Name of Projects='KNN', Number of Projects=7,  Number of Hours =80.0, Profit=560.0)]"
      ]
     },
     "execution_count": 53,
     "metadata": {},
     "output_type": "execute_result"
    }
   ],
   "source": [
    "df.head(5)"
   ]
  },
  {
   "cell_type": "code",
   "execution_count": 54,
   "id": "19372887",
   "metadata": {},
   "outputs": [],
   "source": [
    "from pyspark.sql.functions import concat, when, row_number, to_date, year, month, dayofweek\n",
    "from pyspark.sql.window import Window\n",
    "from pyspark.sql.types import IntegerType\n",
    "from pyspark.sql.functions import col"
   ]
  },
  {
   "cell_type": "code",
   "execution_count": 55,
   "id": "974894ed",
   "metadata": {},
   "outputs": [
    {
     "name": "stdout",
     "output_type": "stream",
     "text": [
      "+---------+-------+-------+-----------------+-------------------+------------------+-----------------+------+\n",
      "|OrderDate| Region|Manager|Software Engineer|   Name of Projects|Number of Projects| Number of Hours |Profit|\n",
      "+---------+-------+-------+-----------------+-------------------+------------------+-----------------+------+\n",
      "|   1-6-19|   East|   Rama|    Urvesh Parmar|                NLP|                 3|             50.0| 150.0|\n",
      "|   2-9-19|Central|   Sita|     Manav Parmar|Logistic Regression|                 5|             30.0| 150.0|\n",
      "|  2-26-19|Central|  Geeta|        Heet Gala|                SVM|                 6|             70.0| 420.0|\n",
      "|  3-15-19|   West|   Rama|  Sushant Saurabh|                KNN|                 7|             80.0| 560.0|\n",
      "|   4-1-19|   East|  Gopal|Chaitanya Shintre|Logistic Regression|                 4|             30.0| 120.0|\n",
      "|  4-19-19|Central|   Sita|        Heet Gala|                NLP|                 6|             50.0| 300.0|\n",
      "|   5-5-19|Central|  Geeta|        Heet Gala|                KNN|                 3|             80.0| 240.0|\n",
      "|  5-22-19|   West|   Rama|     Vaibhav Jain|             K Mean|                 6|            100.0| 600.0|\n",
      "|   6-8-19|   East|  Gopal|     Ameya Shukla|                SVM|                 9|             70.0| 630.0|\n",
      "|  6-25-19|Central|   Rama|     Vaibhav Jain|Logistic Regression|                 1|             30.0|  30.0|\n",
      "+---------+-------+-------+-----------------+-------------------+------------------+-----------------+------+\n",
      "only showing top 10 rows\n",
      "\n"
     ]
    }
   ],
   "source": [
    "# Filter Data\n",
    "df.filter(df[\" Number of Hours \"] > 20).show(10)"
   ]
  },
  {
   "cell_type": "code",
   "execution_count": 56,
   "id": "c46376f3",
   "metadata": {},
   "outputs": [
    {
     "name": "stdout",
     "output_type": "stream",
     "text": [
      "+-------+-----------------------+\n",
      "|Manager|sum(Number of Projects)|\n",
      "+-------+-----------------------+\n",
      "|   NULL|                   NULL|\n",
      "|   Rama|                     36|\n",
      "|   Sita|                     67|\n",
      "|  Gopal|                     79|\n",
      "|  Geeta|                     63|\n",
      "+-------+-----------------------+\n",
      "\n"
     ]
    }
   ],
   "source": [
    "# Grouping and Aggregating Data\n",
    "df.groupBy(\"Manager\").agg({\"Number of Projects\" : \"sum\"}).show(5)"
   ]
  },
  {
   "cell_type": "code",
   "execution_count": 57,
   "id": "71ddf7c1",
   "metadata": {},
   "outputs": [
    {
     "name": "stdout",
     "output_type": "stream",
     "text": [
      "+-------+------------------+\n",
      "| Region|       avg(Profit)|\n",
      "+-------+------------------+\n",
      "|   NULL|              NULL|\n",
      "|Central| 337.0833333333333|\n",
      "|   East|315.38461538461536|\n",
      "|   West| 378.3333333333333|\n",
      "+-------+------------------+\n",
      "\n"
     ]
    }
   ],
   "source": [
    "# Grouping and Aggregating Data\n",
    "df.groupBy(\"Region\").agg({\"Profit\": \"mean\"}).show(5)"
   ]
  },
  {
   "cell_type": "code",
   "execution_count": 58,
   "id": "d5e2356e",
   "metadata": {},
   "outputs": [
    {
     "data": {
      "text/plain": [
       "DataFrame[OrderDate: string, Region: string, Manager: string, Software Engineer: string, Name of Projects: string, Number of Projects: int,  Number of Hours : double, Profit: double]"
      ]
     },
     "execution_count": 58,
     "metadata": {},
     "output_type": "execute_result"
    }
   ],
   "source": [
    "# Handling Missing Values\n",
    "df.fillna(0, subset=[\"Number of Projects\"])"
   ]
  },
  {
   "cell_type": "code",
   "execution_count": 59,
   "id": "11b39faa",
   "metadata": {},
   "outputs": [
    {
     "name": "stdout",
     "output_type": "stream",
     "text": [
      "+---------+-------+-------+-----------------+-------------------+------------------+-----------------+------+\n",
      "|OrderDate| Region|Manager|Software Engineer|   Name of Projects|Number of Projects| Number of Hours |Profit|\n",
      "+---------+-------+-------+-----------------+-------------------+------------------+-----------------+------+\n",
      "|     NULL|   NULL|   NULL|             NULL|               NULL|              NULL|             NULL|  NULL|\n",
      "|     NULL|   NULL|   NULL|             NULL|               NULL|              NULL|             NULL|  NULL|\n",
      "|  4-19-19|Central|   Sita|        Heet Gala|                NLP|                 6|             50.0| 300.0|\n",
      "|  1-23-19|Central|  Gopal|Chaitanya Shintre| Linear Regression |                 4|             20.0|  80.0|\n",
      "|   2-9-19|Central|   Sita|     Manav Parmar|Logistic Regression|                 5|             30.0| 150.0|\n",
      "+---------+-------+-------+-----------------+-------------------+------------------+-----------------+------+\n",
      "only showing top 5 rows\n",
      "\n"
     ]
    }
   ],
   "source": [
    "# Sorting Data\n",
    "df.orderBy(\"Region\").show(5)"
   ]
  },
  {
   "cell_type": "code",
   "execution_count": 60,
   "id": "c8073eb6",
   "metadata": {},
   "outputs": [],
   "source": [
    "# Renaming Columns\n",
    "#df = df.withColumnRenamed(\"Software Engineer\", \"Gender\").show(5)"
   ]
  },
  {
   "cell_type": "code",
   "execution_count": 61,
   "id": "6c01cd9c",
   "metadata": {},
   "outputs": [
    {
     "name": "stdout",
     "output_type": "stream",
     "text": [
      "+---------+-------+-------+-----------------+-------------------+------------------+-----------------+------+-------------------+\n",
      "|OrderDate| Region|Manager|Software Engineer|   Name of Projects|Number of Projects| Number of Hours |Profit|concatenated_column|\n",
      "+---------+-------+-------+-----------------+-------------------+------------------+-----------------+------+-------------------+\n",
      "|   1-6-19|   East|   Rama|    Urvesh Parmar|                NLP|                 3|             50.0| 150.0|              350.0|\n",
      "|  1-23-19|Central|  Gopal|Chaitanya Shintre| Linear Regression |                 4|             20.0|  80.0|              420.0|\n",
      "|   2-9-19|Central|   Sita|     Manav Parmar|Logistic Regression|                 5|             30.0| 150.0|              530.0|\n",
      "|  2-26-19|Central|  Geeta|        Heet Gala|                SVM|                 6|             70.0| 420.0|              670.0|\n",
      "|  3-15-19|   West|   Rama|  Sushant Saurabh|                KNN|                 7|             80.0| 560.0|              780.0|\n",
      "+---------+-------+-------+-----------------+-------------------+------------------+-----------------+------+-------------------+\n",
      "only showing top 5 rows\n",
      "\n"
     ]
    }
   ],
   "source": [
    "# Concatenating Columns\n",
    "df = df.withColumn(\"concatenated_column\", concat(df[\"Number of Projects\"], df[\" Number of Hours \"])).show(5)"
   ]
  },
  {
   "cell_type": "code",
   "execution_count": 62,
   "id": "99d8d87a",
   "metadata": {},
   "outputs": [],
   "source": [
    "# Dropping Columns\n",
    "#df = df.drop(\"concatenated_column\")"
   ]
  },
  {
   "cell_type": "code",
   "execution_count": 65,
   "id": "f7382d0d",
   "metadata": {},
   "outputs": [
    {
     "ename": "AttributeError",
     "evalue": "'NoneType' object has no attribute 'select'",
     "output_type": "error",
     "traceback": [
      "\u001b[1;31m---------------------------------------------------------------------------\u001b[0m",
      "\u001b[1;31mAttributeError\u001b[0m                            Traceback (most recent call last)",
      "Cell \u001b[1;32mIn[65], line 2\u001b[0m\n\u001b[0;32m      1\u001b[0m \u001b[38;5;66;03m# Distinct Values in a Column\u001b[39;00m\n\u001b[1;32m----> 2\u001b[0m \u001b[43mdf\u001b[49m\u001b[38;5;241;43m.\u001b[39;49m\u001b[43mselect\u001b[49m(\u001b[38;5;124m\"\u001b[39m\u001b[38;5;124mManager\u001b[39m\u001b[38;5;124m\"\u001b[39m)\u001b[38;5;241m.\u001b[39mdistinct()\u001b[38;5;241m.\u001b[39mshow()\n",
      "\u001b[1;31mAttributeError\u001b[0m: 'NoneType' object has no attribute 'select'"
     ]
    }
   ],
   "source": [
    "# Distinct Values in a Column\n",
    "df.select(\"Manager\").distinct().show()"
   ]
  },
  {
   "cell_type": "code",
   "execution_count": 66,
   "id": "4a5ee979",
   "metadata": {},
   "outputs": [
    {
     "ename": "AttributeError",
     "evalue": "'NoneType' object has no attribute 'groupBy'",
     "output_type": "error",
     "traceback": [
      "\u001b[1;31m---------------------------------------------------------------------------\u001b[0m",
      "\u001b[1;31mAttributeError\u001b[0m                            Traceback (most recent call last)",
      "Cell \u001b[1;32mIn[66], line 2\u001b[0m\n\u001b[0;32m      1\u001b[0m \u001b[38;5;66;03m# Pivot Tables\u001b[39;00m\n\u001b[1;32m----> 2\u001b[0m pivot_df \u001b[38;5;241m=\u001b[39m \u001b[43mdf\u001b[49m\u001b[38;5;241;43m.\u001b[39;49m\u001b[43mgroupBy\u001b[49m(\u001b[38;5;124m\"\u001b[39m\u001b[38;5;124mProfit\u001b[39m\u001b[38;5;124m\"\u001b[39m)\u001b[38;5;241m.\u001b[39mpivot(\u001b[38;5;124m\"\u001b[39m\u001b[38;5;124mSoftware Engineer\u001b[39m\u001b[38;5;124m\"\u001b[39m)\u001b[38;5;241m.\u001b[39magg({\u001b[38;5;124m\"\u001b[39m\u001b[38;5;124mName of Projects\u001b[39m\u001b[38;5;124m\"\u001b[39m: \u001b[38;5;124m\"\u001b[39m\u001b[38;5;124msum\u001b[39m\u001b[38;5;124m\"\u001b[39m})\n",
      "\u001b[1;31mAttributeError\u001b[0m: 'NoneType' object has no attribute 'groupBy'"
     ]
    }
   ],
   "source": [
    "# Pivot Tables\n",
    "pivot_df = df.groupBy(\"Profit\").pivot(\"Software Engineer\").agg({\"Name of Projects\": \"sum\"})"
   ]
  },
  {
   "cell_type": "code",
   "execution_count": null,
   "id": "8594f2ba",
   "metadata": {},
   "outputs": [],
   "source": []
  },
  {
   "cell_type": "code",
   "execution_count": null,
   "id": "75f146ef",
   "metadata": {},
   "outputs": [],
   "source": []
  },
  {
   "cell_type": "code",
   "execution_count": null,
   "id": "d50ab9e1",
   "metadata": {},
   "outputs": [],
   "source": []
  },
  {
   "cell_type": "code",
   "execution_count": null,
   "id": "700d3c49",
   "metadata": {},
   "outputs": [],
   "source": []
  },
  {
   "cell_type": "code",
   "execution_count": null,
   "id": "81a2bab6",
   "metadata": {},
   "outputs": [],
   "source": []
  }
 ],
 "metadata": {
  "kernelspec": {
   "display_name": "Python 3 (ipykernel)",
   "language": "python",
   "name": "python3"
  },
  "language_info": {
   "codemirror_mode": {
    "name": "ipython",
    "version": 3
   },
   "file_extension": ".py",
   "mimetype": "text/x-python",
   "name": "python",
   "nbconvert_exporter": "python",
   "pygments_lexer": "ipython3",
   "version": "3.10.9"
  }
 },
 "nbformat": 4,
 "nbformat_minor": 5
}
