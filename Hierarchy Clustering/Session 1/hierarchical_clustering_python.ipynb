{
  "nbformat": 4,
  "nbformat_minor": 0,
  "metadata": {
    "colab": {
      "provenance": []
    },
    "kernelspec": {
      "name": "python3",
      "display_name": "Python 3"
    },
    "language_info": {
      "name": "python"
    }
  },
  "cells": [
    {
      "cell_type": "code",
      "source": [
        "import numpy as np\n",
        "import matplotlib.pyplot as plt\n",
        "from scipy.cluster.hierarchy import dendrogram, linkage\n",
        "from sklearn.cluster import AgglomerativeClustering"
      ],
      "metadata": {
        "id": "O_-7Fq58FEjE"
      },
      "execution_count": 13,
      "outputs": []
    },
    {
      "cell_type": "code",
      "execution_count": 17,
      "metadata": {
        "colab": {
          "base_uri": "https://localhost:8080/",
          "height": 265
        },
        "id": "PPb8HUKhCA6V",
        "outputId": "5c22d7f1-1124-477e-d784-6016474789e5"
      },
      "outputs": [
        {
          "output_type": "display_data",
          "data": {
            "text/plain": [
              "<Figure size 432x288 with 1 Axes>"
            ],
            "image/png": "[encoded data removed]"
          },
          "metadata": {
            "needs_background": "light"
          }
        }
      ],
      "source": [
        "import numpy as np\n",
        "import matplotlib.pyplot as plt\n",
        "\n",
        "x = [4, 5, 10, 4, 3, 11, 14 , 6, 10, 12]\n",
        "y = [21, 19, 24, 17, 16, 25, 24, 22, 21, 21]\n",
        "\n",
        "plt.scatter(x, y)\n",
        "plt.show()"
      ]
    },
    {
      "cell_type": "code",
      "source": [
        "import math"
      ],
      "metadata": {
        "id": "Nx_wZ3PRCFiY"
      },
      "execution_count": null,
      "outputs": []
    },
    {
      "cell_type": "code",
      "source": [
        "print(math.hypot(4,21))\n",
        "print(math.hypot(5,19))\n",
        "print(math.hypot(10,24))\n",
        "print(math.hypot(4,17))\n",
        "print(math.hypot(3,16))\n",
        "print(math.hypot(11,25))\n",
        "print(math.hypot(14,24))\n",
        "print(math.hypot(6,22))\n",
        "print(math.hypot(10,21))\n",
        "print(math.hypot(12,21))"
      ],
      "metadata": {
        "colab": {
          "base_uri": "https://localhost:8080/"
        },
        "id": "RBicTzE8CUCD",
        "outputId": "02e94cf9-1e62-4641-db54-0c378815eb0f"
      },
      "execution_count": 6,
      "outputs": [
        {
          "output_type": "stream",
          "name": "stdout",
          "text": [
            "21.377558326431952\n",
            "19.6468827043885\n",
            "26.0\n",
            "17.46424919657298\n",
            "16.278820596099706\n",
            "27.313000567495326\n",
            "27.78488797889961\n",
            "22.80350850198276\n",
            "23.259406699226012\n",
            "24.186773244895647\n"
          ]
        }
      ]
    },
    {
      "cell_type": "code",
      "source": [
        "print(math.hypot(17.4,16.2))"
      ],
      "metadata": {
        "colab": {
          "base_uri": "https://localhost:8080/"
        },
        "id": "pYbwmsuUDy6O",
        "outputId": "17dcc1f9-bfd1-4de1-8493-acc6670e671e"
      },
      "execution_count": 9,
      "outputs": [
        {
          "output_type": "stream",
          "name": "stdout",
          "text": [
            "23.77393530739074\n"
          ]
        }
      ]
    },
    {
      "cell_type": "code",
      "source": [
        "print(math.hypot(21.3,19.6))"
      ],
      "metadata": {
        "colab": {
          "base_uri": "https://localhost:8080/"
        },
        "id": "t-wXn3PxD5xW",
        "outputId": "3ed7b0d2-c156-4bcc-d438-f377d0be02b6"
      },
      "execution_count": 10,
      "outputs": [
        {
          "output_type": "stream",
          "name": "stdout",
          "text": [
            "28.945638704302247\n"
          ]
        }
      ]
    },
    {
      "cell_type": "code",
      "source": [
        "data = list(zip(x, y))"
      ],
      "metadata": {
        "id": "e-jhjTquCak0"
      },
      "execution_count": 7,
      "outputs": []
    },
    {
      "cell_type": "code",
      "source": [
        "data"
      ],
      "metadata": {
        "colab": {
          "base_uri": "https://localhost:8080/"
        },
        "id": "nU93CmirDWk7",
        "outputId": "e69fa296-2e7f-4f1a-d4a5-3d583a99ed75"
      },
      "execution_count": 8,
      "outputs": [
        {
          "output_type": "execute_result",
          "data": {
            "text/plain": [
              "[(4, 21),\n",
              " (5, 19),\n",
              " (10, 24),\n",
              " (4, 17),\n",
              " (3, 16),\n",
              " (11, 25),\n",
              " (14, 24),\n",
              " (6, 22),\n",
              " (10, 21),\n",
              " (12, 21)]"
            ]
          },
          "metadata": {},
          "execution_count": 8
        }
      ]
    },
    {
      "cell_type": "code",
      "source": [
        "linkage_data = linkage(data, method='ward', metric='euclidean')"
      ],
      "metadata": {
        "id": "Qi2Qn-PoDXGR"
      },
      "execution_count": 14,
      "outputs": []
    },
    {
      "cell_type": "code",
      "source": [
        "linkage_data "
      ],
      "metadata": {
        "colab": {
          "base_uri": "https://localhost:8080/"
        },
        "id": "h_Q6i9glFHwL",
        "outputId": "2677bbee-3d74-4f1c-e782-1d29c584acf9"
      },
      "execution_count": 15,
      "outputs": [
        {
          "output_type": "execute_result",
          "data": {
            "text/plain": [
              "array([[ 2.        ,  5.        ,  1.41421356,  2.        ],\n",
              "       [ 3.        ,  4.        ,  1.41421356,  2.        ],\n",
              "       [ 8.        ,  9.        ,  2.        ,  2.        ],\n",
              "       [ 0.        ,  1.        ,  2.23606798,  2.        ],\n",
              "       [ 7.        , 13.        ,  2.88675135,  3.        ],\n",
              "       [ 6.        , 10.        ,  4.0824829 ,  3.        ],\n",
              "       [12.        , 15.        ,  5.26624471,  5.        ],\n",
              "       [11.        , 14.        ,  6.86051504,  5.        ],\n",
              "       [16.        , 17.        , 18.02775638, 10.        ]])"
            ]
          },
          "metadata": {},
          "execution_count": 15
        }
      ]
    },
    {
      "cell_type": "code",
      "source": [
        "dendrogram(linkage_data)\n",
        "plt.show()"
      ],
      "metadata": {
        "colab": {
          "base_uri": "https://localhost:8080/",
          "height": 268
        },
        "id": "UA4raDZ-FIJt",
        "outputId": "59631fdf-331c-45da-aeb6-9823cf671cd9"
      },
      "execution_count": 16,
      "outputs": [
        {
          "output_type": "display_data",
          "data": {
            "text/plain": [
              "<Figure size 432x288 with 1 Axes>"
            ],
            "image/png": "[encoded data removed]"
          },
          "metadata": {
            "needs_background": "light"
          }
        }
      ]
    },
    {
      "cell_type": "code",
      "source": [],
      "metadata": {
        "id": "wbB7V-WhFN5c"
      },
      "execution_count": null,
      "outputs": []
    }
  ]
}