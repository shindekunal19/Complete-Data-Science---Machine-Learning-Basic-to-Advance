{
 "cells": [
  {
   "cell_type": "code",
   "execution_count": 1,
   "id": "e8bf9658",
   "metadata": {},
   "outputs": [],
   "source": [
    "import pandas as pd\n",
    "import numpy as np\n",
    "\n",
    "# Setting a seed for reproducibility\n",
    "np.random.seed(0)\n",
    "\n",
    "# Generating synthetic data\n",
    "n = 200\n",
    "GDP = np.random.uniform(1000, 10000, n)  # GDP values\n",
    "# Assuming a linear relationship between Production and GDP with some noise\n",
    "Production = 0.5 * GDP + np.random.normal(0, 1000, n)\n",
    "\n",
    "# Creating a DataFrame\n",
    "data = pd.DataFrame({'Production': Production, 'GDP': GDP})\n",
    "\n",
    "# Saving the dataset to a CSV file\n",
    "data.to_csv('production_vs_gdp_dataset.csv', index=False)\n"
   ]
  },
  {
   "cell_type": "code",
   "execution_count": null,
   "id": "b25c2667",
   "metadata": {},
   "outputs": [],
   "source": []
  }
 ],
 "metadata": {
  "kernelspec": {
   "display_name": "Python 3 (ipykernel)",
   "language": "python",
   "name": "python3"
  },
  "language_info": {
   "codemirror_mode": {
    "name": "ipython",
    "version": 3
   },
   "file_extension": ".py",
   "mimetype": "text/x-python",
   "name": "python",
   "nbconvert_exporter": "python",
   "pygments_lexer": "ipython3",
   "version": "3.10.9"
  }
 },
 "nbformat": 4,
 "nbformat_minor": 5
}
