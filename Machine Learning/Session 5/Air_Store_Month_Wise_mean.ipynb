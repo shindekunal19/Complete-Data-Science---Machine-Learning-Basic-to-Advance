{
 "cells": [
  {
   "cell_type": "code",
   "execution_count": 5,
   "metadata": {},
   "outputs": [],
   "source": [
    "import warnings\n",
    "warnings.filterwarnings(\"ignore\")\n",
    "import pandas as pd\n",
    "import numpy as np\n",
    "from sklearn.linear_model import LogisticRegression\n",
    "from sklearn.feature_extraction.text import TfidfVectorizer\n",
    "from sklearn.svm import SVC\n",
    "from sklearn.decomposition import TruncatedSVD\n",
    "from sklearn.preprocessing import StandardScaler\n",
    "from sklearn import decomposition, pipeline, metrics\n",
    "from sklearn.model_selection import GridSearchCV\n",
    "\n"
   ]
  },
  {
   "cell_type": "code",
   "execution_count": 7,
   "metadata": {},
   "outputs": [],
   "source": [
    "air_visit_data = pd.read_csv('air_visit_data.csv.zip')\n",
    "sample_submission = pd.read_csv('sample_submission.csv.zip')\n",
    "sample_submission['air_store_id'] = sample_submission['id'].apply(lambda x: x.split('_')[0]+str('_') +x.split('_')[1])\n",
    "sample_submission['visit_date'] = sample_submission['id'].apply(lambda x: x.split('_')[2])\n",
    "sample_submission['visit_date'] = pd.to_datetime(sample_submission['visit_date'],format= '%Y-%m-%d %H:%M:%S')"
   ]
  },
  {
   "cell_type": "code",
   "execution_count": 8,
   "metadata": {},
   "outputs": [
    {
     "data": {
      "text/plain": [
       "Timestamp('2016-01-01 00:00:00')"
      ]
     },
     "execution_count": 8,
     "metadata": {},
     "output_type": "execute_result"
    }
   ],
   "source": [
    "air_visit_data['visit_date'] = pd.to_datetime(air_visit_data['visit_date'],format= '%Y-%m-%d')\n",
    "air_visit_data.visit_date.min()"
   ]
  },
  {
   "cell_type": "code",
   "execution_count": 9,
   "metadata": {},
   "outputs": [],
   "source": [
    "air_visit_data['visit_date_month'] =air_visit_data.visit_date.dt.month\n",
    "air_visit_data['visit_date_dayofw'] =air_visit_data.visit_date.dt.dayofweek\n",
    "air_visit_data['visit_date_year'] =air_visit_data.visit_date.dt.year\n",
    "air_visit_data['visit_date_dayofm'] =air_visit_data.visit_date.dt.day\n",
    "air_visit_data['weekofyear'] =air_visit_data.visit_date.dt.weekofyear"
   ]
  },
  {
   "cell_type": "code",
   "execution_count": 10,
   "metadata": {},
   "outputs": [],
   "source": [
    "df=air_visit_data.groupby(['air_store_id','visit_date_month']).agg('mean')['visitors'].reset_index()"
   ]
  },
  {
   "cell_type": "code",
   "execution_count": 11,
   "metadata": {},
   "outputs": [
    {
     "data": {
      "text/plain": [
       "Index(['air_store_id', 'visit_date_month', 'visitors'], dtype='object')"
      ]
     },
     "execution_count": 11,
     "metadata": {},
     "output_type": "execute_result"
    }
   ],
   "source": [
    "df.columns"
   ]
  },
  {
   "cell_type": "code",
   "execution_count": 12,
   "metadata": {},
   "outputs": [],
   "source": [
    "df = df.pivot(index='air_store_id', columns='visit_date_month', values='visitors').reset_index()"
   ]
  },
  {
   "cell_type": "code",
   "execution_count": 13,
   "metadata": {},
   "outputs": [],
   "source": [
    "df = df[['air_store_id', 1, 2, 3, 4, 5, 6, 7, 8, 9, 10, 11, 12]]"
   ]
  },
  {
   "cell_type": "code",
   "execution_count": 14,
   "metadata": {},
   "outputs": [],
   "source": [
    "df.columns = ['air_store_id', 'm0', 'm1', 'm2', 'm3', 'm4', 'm5', 'm6','m7', 'm8', 'm9', 'm10', 'm11']"
   ]
  },
  {
   "cell_type": "code",
   "execution_count": 15,
   "metadata": {},
   "outputs": [
    {
     "data": {
      "text/plain": [
       "air_store_id      0\n",
       "m0               12\n",
       "m1               10\n",
       "m2                1\n",
       "m3                4\n",
       "m4              515\n",
       "m5              515\n",
       "m6               30\n",
       "m7               27\n",
       "m8               22\n",
       "m9               20\n",
       "m10              18\n",
       "m11              18\n",
       "dtype: int64"
      ]
     },
     "execution_count": 15,
     "metadata": {},
     "output_type": "execute_result"
    }
   ],
   "source": [
    "df.isnull().sum()"
   ]
  },
  {
   "cell_type": "code",
   "execution_count": 16,
   "metadata": {},
   "outputs": [],
   "source": [
    "df = df.drop(['m4','m5'],axis=1)"
   ]
  },
  {
   "cell_type": "code",
   "execution_count": 17,
   "metadata": {},
   "outputs": [],
   "source": [
    "df.replace(np.nan,0,inplace = True)"
   ]
  },
  {
   "cell_type": "code",
   "execution_count": 18,
   "metadata": {},
   "outputs": [],
   "source": [
    "df.to_csv('air_store_month_wise_mean.csv',index= False)"
   ]
  },
  {
   "cell_type": "code",
   "execution_count": 19,
   "metadata": {},
   "outputs": [
    {
     "data": {
      "text/html": [
       "<div>\n",
       "<style scoped>\n",
       "    .dataframe tbody tr th:only-of-type {\n",
       "        vertical-align: middle;\n",
       "    }\n",
       "\n",
       "    .dataframe tbody tr th {\n",
       "        vertical-align: top;\n",
       "    }\n",
       "\n",
       "    .dataframe thead th {\n",
       "        text-align: right;\n",
       "    }\n",
       "</style>\n",
       "<table border=\"1\" class=\"dataframe\">\n",
       "  <thead>\n",
       "    <tr style=\"text-align: right;\">\n",
       "      <th></th>\n",
       "      <th>air_store_id</th>\n",
       "      <th>m0</th>\n",
       "      <th>m1</th>\n",
       "      <th>m2</th>\n",
       "      <th>m3</th>\n",
       "      <th>m6</th>\n",
       "      <th>m7</th>\n",
       "      <th>m8</th>\n",
       "      <th>m9</th>\n",
       "      <th>m10</th>\n",
       "      <th>m11</th>\n",
       "    </tr>\n",
       "  </thead>\n",
       "  <tbody>\n",
       "    <tr>\n",
       "      <th>0</th>\n",
       "      <td>air_00a91d42b08b08d9</td>\n",
       "      <td>25.869565</td>\n",
       "      <td>29.652174</td>\n",
       "      <td>29.384615</td>\n",
       "      <td>27.222222</td>\n",
       "      <td>26.080000</td>\n",
       "      <td>24.166667</td>\n",
       "      <td>22.833333</td>\n",
       "      <td>23.250000</td>\n",
       "      <td>22.625000</td>\n",
       "      <td>30.428571</td>\n",
       "    </tr>\n",
       "    <tr>\n",
       "      <th>1</th>\n",
       "      <td>air_0164b9927d20bcc3</td>\n",
       "      <td>10.789474</td>\n",
       "      <td>7.476190</td>\n",
       "      <td>9.625000</td>\n",
       "      <td>8.315789</td>\n",
       "      <td>0.000000</td>\n",
       "      <td>0.000000</td>\n",
       "      <td>0.000000</td>\n",
       "      <td>10.000000</td>\n",
       "      <td>8.260870</td>\n",
       "      <td>10.333333</td>\n",
       "    </tr>\n",
       "    <tr>\n",
       "      <th>2</th>\n",
       "      <td>air_0241aa3964b7f861</td>\n",
       "      <td>9.540000</td>\n",
       "      <td>9.212766</td>\n",
       "      <td>9.962264</td>\n",
       "      <td>10.250000</td>\n",
       "      <td>8.178571</td>\n",
       "      <td>10.125000</td>\n",
       "      <td>10.954545</td>\n",
       "      <td>9.153846</td>\n",
       "      <td>9.600000</td>\n",
       "      <td>12.000000</td>\n",
       "    </tr>\n",
       "    <tr>\n",
       "      <th>3</th>\n",
       "      <td>air_0328696196e46f18</td>\n",
       "      <td>7.714286</td>\n",
       "      <td>7.571429</td>\n",
       "      <td>9.470588</td>\n",
       "      <td>8.384615</td>\n",
       "      <td>8.000000</td>\n",
       "      <td>6.100000</td>\n",
       "      <td>10.500000</td>\n",
       "      <td>10.666667</td>\n",
       "      <td>3.888889</td>\n",
       "      <td>10.666667</td>\n",
       "    </tr>\n",
       "    <tr>\n",
       "      <th>4</th>\n",
       "      <td>air_034a3d5b40d5b1b1</td>\n",
       "      <td>5.733333</td>\n",
       "      <td>27.428571</td>\n",
       "      <td>23.806452</td>\n",
       "      <td>22.409091</td>\n",
       "      <td>13.777778</td>\n",
       "      <td>11.444444</td>\n",
       "      <td>9.333333</td>\n",
       "      <td>7.407407</td>\n",
       "      <td>12.272727</td>\n",
       "      <td>9.357143</td>\n",
       "    </tr>\n",
       "    <tr>\n",
       "      <th>...</th>\n",
       "      <td>...</td>\n",
       "      <td>...</td>\n",
       "      <td>...</td>\n",
       "      <td>...</td>\n",
       "      <td>...</td>\n",
       "      <td>...</td>\n",
       "      <td>...</td>\n",
       "      <td>...</td>\n",
       "      <td>...</td>\n",
       "      <td>...</td>\n",
       "      <td>...</td>\n",
       "    </tr>\n",
       "    <tr>\n",
       "      <th>824</th>\n",
       "      <td>air_fea5dc9594450608</td>\n",
       "      <td>13.807692</td>\n",
       "      <td>18.041667</td>\n",
       "      <td>15.866667</td>\n",
       "      <td>16.227273</td>\n",
       "      <td>13.586207</td>\n",
       "      <td>13.750000</td>\n",
       "      <td>13.423077</td>\n",
       "      <td>12.433333</td>\n",
       "      <td>11.333333</td>\n",
       "      <td>17.344828</td>\n",
       "    </tr>\n",
       "    <tr>\n",
       "      <th>825</th>\n",
       "      <td>air_fee8dcf4d619598e</td>\n",
       "      <td>22.633333</td>\n",
       "      <td>27.714286</td>\n",
       "      <td>24.903226</td>\n",
       "      <td>26.727273</td>\n",
       "      <td>29.193548</td>\n",
       "      <td>26.233333</td>\n",
       "      <td>27.666667</td>\n",
       "      <td>23.838710</td>\n",
       "      <td>22.633333</td>\n",
       "      <td>29.640000</td>\n",
       "    </tr>\n",
       "    <tr>\n",
       "      <th>826</th>\n",
       "      <td>air_fef9ccb3ba0da2f7</td>\n",
       "      <td>6.565217</td>\n",
       "      <td>6.041667</td>\n",
       "      <td>7.000000</td>\n",
       "      <td>9.421053</td>\n",
       "      <td>13.296296</td>\n",
       "      <td>10.772727</td>\n",
       "      <td>12.384615</td>\n",
       "      <td>10.333333</td>\n",
       "      <td>11.120000</td>\n",
       "      <td>8.720000</td>\n",
       "    </tr>\n",
       "    <tr>\n",
       "      <th>827</th>\n",
       "      <td>air_ffcc2d5087e1b476</td>\n",
       "      <td>22.913043</td>\n",
       "      <td>19.791667</td>\n",
       "      <td>20.857143</td>\n",
       "      <td>19.500000</td>\n",
       "      <td>20.884615</td>\n",
       "      <td>18.090909</td>\n",
       "      <td>19.200000</td>\n",
       "      <td>18.560000</td>\n",
       "      <td>21.440000</td>\n",
       "      <td>20.880000</td>\n",
       "    </tr>\n",
       "    <tr>\n",
       "      <th>828</th>\n",
       "      <td>air_fff68b929994bfbd</td>\n",
       "      <td>5.038462</td>\n",
       "      <td>4.821429</td>\n",
       "      <td>5.000000</td>\n",
       "      <td>4.636364</td>\n",
       "      <td>5.076923</td>\n",
       "      <td>5.440000</td>\n",
       "      <td>4.857143</td>\n",
       "      <td>4.888889</td>\n",
       "      <td>5.827586</td>\n",
       "      <td>5.206897</td>\n",
       "    </tr>\n",
       "  </tbody>\n",
       "</table>\n",
       "<p>829 rows × 11 columns</p>\n",
       "</div>"
      ],
      "text/plain": [
       "             air_store_id         m0         m1         m2         m3  \\\n",
       "0    air_00a91d42b08b08d9  25.869565  29.652174  29.384615  27.222222   \n",
       "1    air_0164b9927d20bcc3  10.789474   7.476190   9.625000   8.315789   \n",
       "2    air_0241aa3964b7f861   9.540000   9.212766   9.962264  10.250000   \n",
       "3    air_0328696196e46f18   7.714286   7.571429   9.470588   8.384615   \n",
       "4    air_034a3d5b40d5b1b1   5.733333  27.428571  23.806452  22.409091   \n",
       "..                    ...        ...        ...        ...        ...   \n",
       "824  air_fea5dc9594450608  13.807692  18.041667  15.866667  16.227273   \n",
       "825  air_fee8dcf4d619598e  22.633333  27.714286  24.903226  26.727273   \n",
       "826  air_fef9ccb3ba0da2f7   6.565217   6.041667   7.000000   9.421053   \n",
       "827  air_ffcc2d5087e1b476  22.913043  19.791667  20.857143  19.500000   \n",
       "828  air_fff68b929994bfbd   5.038462   4.821429   5.000000   4.636364   \n",
       "\n",
       "            m6         m7         m8         m9        m10        m11  \n",
       "0    26.080000  24.166667  22.833333  23.250000  22.625000  30.428571  \n",
       "1     0.000000   0.000000   0.000000  10.000000   8.260870  10.333333  \n",
       "2     8.178571  10.125000  10.954545   9.153846   9.600000  12.000000  \n",
       "3     8.000000   6.100000  10.500000  10.666667   3.888889  10.666667  \n",
       "4    13.777778  11.444444   9.333333   7.407407  12.272727   9.357143  \n",
       "..         ...        ...        ...        ...        ...        ...  \n",
       "824  13.586207  13.750000  13.423077  12.433333  11.333333  17.344828  \n",
       "825  29.193548  26.233333  27.666667  23.838710  22.633333  29.640000  \n",
       "826  13.296296  10.772727  12.384615  10.333333  11.120000   8.720000  \n",
       "827  20.884615  18.090909  19.200000  18.560000  21.440000  20.880000  \n",
       "828   5.076923   5.440000   4.857143   4.888889   5.827586   5.206897  \n",
       "\n",
       "[829 rows x 11 columns]"
      ]
     },
     "execution_count": 19,
     "metadata": {},
     "output_type": "execute_result"
    }
   ],
   "source": [
    "df"
   ]
  },
  {
   "cell_type": "code",
   "execution_count": null,
   "metadata": {
    "collapsed": true
   },
   "outputs": [],
   "source": []
  }
 ],
 "metadata": {
  "kernelspec": {
   "display_name": "Python 3 (ipykernel)",
   "language": "python",
   "name": "python3"
  },
  "language_info": {
   "codemirror_mode": {
    "name": "ipython",
    "version": 3
   },
   "file_extension": ".py",
   "mimetype": "text/x-python",
   "name": "python",
   "nbconvert_exporter": "python",
   "pygments_lexer": "ipython3",
   "version": "3.10.9"
  }
 },
 "nbformat": 4,
 "nbformat_minor": 2
}
